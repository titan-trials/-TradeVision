{
 "cells": [
  {
   "cell_type": "code",
   "execution_count": null,
   "id": "7cb0ce9a",
   "metadata": {},
   "outputs": [],
   "source": [
    "#Class Creator: Nolan \n",
    "#Date Created: 2023-10-15\n",
    "#Purpose: To create a trading simulator that uses technical indicators to generate buy/sell signals and evaluate trading strategies.\n",
    "#All idicator calculations will be classes within this file for easier use and modification.\n",
    "\n"
   ]
  }
 ],
 "metadata": {
  "kernelspec": {
   "display_name": "Python 3",
   "language": "python",
   "name": "python3"
  },
  "language_info": {
   "name": "python",
   "version": "3.13.5"
  }
 },
 "nbformat": 4,
 "nbformat_minor": 5
}
