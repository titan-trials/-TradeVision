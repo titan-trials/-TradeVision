{
 "cells": [
  {
   "cell_type": "code",
   "execution_count": 7,
   "id": "e6ce0954",
   "metadata": {},
   "outputs": [
    {
     "name": "stdout",
     "output_type": "stream",
     "text": [
      "\n",
      "--- Daily % Changes ---\n",
      " Day  Previous Price  Current Price  Percent Change (%)\n",
      "   2             1.0            2.0               100.0\n",
      "   3             2.0            7.0               250.0\n",
      "   4             7.0           84.0              1100.0\n",
      "   5            84.0            0.0              -100.0\n"
     ]
    }
   ],
   "source": [
    "import pandas as pd\n",
    "\n",
    "n = int(input(\"Enter the number of prices: \"))\n",
    "\n",
    "prices = []\n",
    "for i in range(n):\n",
    "    price = float(input(\"Enter the prices: \"))\n",
    "    prices.append(price)\n",
    "\n",
    "percent_changes = []\n",
    "for i in range(1, n):\n",
    "    change = ((prices[i] - prices[i - 1]) / prices[i - 1]) * 100\n",
    "    percent_changes.append(round(change, 2))\n",
    "\n",
    "\n",
    "df = pd.DataFrame({\n",
    "    \"Day\": list(range(2, n + 1)),\n",
    "    \"Previous Price\": prices[:-1],\n",
    "    \"Current Price\": prices[1:],\n",
    "    \"Percent Change (%)\": percent_changes\n",
    "})\n",
    "\n",
    "print(\"\\n--- Daily % Changes ---\")\n",
    "print(df.to_string(index=False))"
   ]
  }
 ],
 "metadata": {
  "kernelspec": {
   "display_name": "Python 3",
   "language": "python",
   "name": "python3"
  },
  "language_info": {
   "codemirror_mode": {
    "name": "ipython",
    "version": 3
   },
   "file_extension": ".py",
   "mimetype": "text/x-python",
   "name": "python",
   "nbconvert_exporter": "python",
   "pygments_lexer": "ipython3",
   "version": "3.13.5"
  }
 },
 "nbformat": 4,
 "nbformat_minor": 5
}
