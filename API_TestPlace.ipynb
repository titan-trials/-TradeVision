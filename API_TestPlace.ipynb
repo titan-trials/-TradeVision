{
 "cells": [
  {
   "cell_type": "code",
   "execution_count": null,
   "id": "0a28311d",
   "metadata": {},
   "outputs": [],
   "source": [
    "#Alpaca API key test area\n",
    "#PAPER TRADING ONLY\n",
    "#pip install alpaca-trade-api\n",
    "\n",
    "import pandas as pd\n",
    "from alpaca_trade_api.rest import REST, TimeFrame\n",
    "from config import API_KEY, API_SECRET\n",
    "\n",
    "#TimeFrame\tWhat it means\n",
    "#TimeFrame.Minute\t1-minute bars (every row = 1 minute of trading)\n",
    "#TimeFrame.Hour\t    1-hour bars (every row = 1 hour of trading)\n",
    "#TimeFrame.Day\t    1-day bars (every row = 1 trading day)\n",
    "#TimeFrame.Week\t    1-week bars (every row = 1 week of trading)\n",
    "#TimeFrame.Month\t1-month bars (every row = 1 month of trading)\n",
    "\n",
    "# Replace with keys\n",
    "BASE_URL = \"https://paper-api.alpaca.markets\"  # Paper trading endpoint\n",
    "\n",
    "# Initialize the REST API connection\n",
    "api = REST(API_KEY, API_SECRET, BASE_URL)\n",
    "\n",
    "# Example: Get account info\n",
    "account = api.get_account()\n",
    "print(account)\n",
    "\n",
    "# Example: Get historical data for AAPL\n",
    "data = api.get_bars(\"AAPL\", TimeFrame.Day, \"2025-09-01\", \"2025-09-10\").df\n",
    "print(data)\n",
    "\n",
    "# Example: Submit a paper trade (buy 1 share of AAPL)\n",
    "# api.submit_order(\n",
    "#     symbol=\"AAPL\",\n",
    "#     qty=1,\n",
    "#     side=\"buy\",\n",
    "#     type=\"market\",\n",
    "#     time_in_force=\"day\"\n",
    "# )\n",
    "\n"
   ]
  }
 ],
 "metadata": {
  "kernelspec": {
   "display_name": "Python 3",
   "language": "python",
   "name": "python3"
  },
  "language_info": {
   "codemirror_mode": {
    "name": "ipython",
    "version": 3
   },
   "file_extension": ".py",
   "mimetype": "text/x-python",
   "name": "python",
   "nbconvert_exporter": "python",
   "pygments_lexer": "ipython3",
   "version": "3.13.5"
  }
 },
 "nbformat": 4,
 "nbformat_minor": 5
}
