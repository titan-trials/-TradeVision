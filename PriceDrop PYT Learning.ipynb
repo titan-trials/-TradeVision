{
 "cells": [
  {
   "cell_type": "code",
   "execution_count": 20,
   "id": "37b726a9",
   "metadata": {},
   "outputs": [
    {
     "name": "stdout",
     "output_type": "stream",
     "text": [
      "ALERT DROP OF 5% OR MORE: 5.0 became 4.0[index: 1]\n",
      "NO ALERT: 1.0 became 8.0\n",
      "NO ALERT: 6.0 became 8.0\n",
      "NO ALERT: 2.0 became 94.0\n",
      "ALERT DROP OF 5% OR MORE: 7.0 became 1.0[index: 5]\n",
      "\n",
      "--- Trading Signal Summary ---\n",
      " Day  Old Price  New Price    % Change                    Alert\n",
      "   1        5.0        4.0  -20.000000 ALERT DROP OF 5% OR MORE\n",
      "   2        1.0        8.0  700.000000                 NO ALERT\n",
      "   3        6.0        8.0   33.333333                 NO ALERT\n",
      "   4        2.0       94.0 4600.000000                 NO ALERT\n",
      "   5        7.0        1.0  -85.714286 ALERT DROP OF 5% OR MORE\n"
     ]
    }
   ],
   "source": [
    "import pandas as pd\n",
    "\n",
    "n = int(input(\"Enter the number of prices: \"))\n",
    "\n",
    "\n",
    "old_prices = []\n",
    "for i in range(n):\n",
    "    price = float(input(\"Enter the old prices: \"))\n",
    "    old_prices.append(price)\n",
    "\n",
    "\n",
    "\n",
    "new_prices = []\n",
    "for i in range(n):\n",
    "    price = float(input(\"Enter the new prices: \"))\n",
    "    new_prices.append(price)\n",
    "\n",
    "\n",
    "\n",
    "for i in range(n):\n",
    "    if new_prices[i] < old_prices[i]:\n",
    "        Base_threshold = float(old_prices[i] * 0.05)\n",
    "        threshold = float(old_prices[i] - Base_threshold)\n",
    "        if new_prices[i] <= threshold:\n",
    "            print(f\"ALERT DROP OF 5% OR MORE: {old_prices[i]} became {new_prices[i]}\" f\"[index: {i+1}]\")\n",
    "    else:\n",
    "        print(f\"NO ALERT: {old_prices[i]} became {new_prices[i]}\")\n",
    "\n",
    "\n",
    "\n",
    "  \n",
    "\n",
    "#Formatting the output into a DataFrame for better readability\n",
    "\n",
    "summary = pd.DataFrame({\n",
    "    \"Day\": list(range(1, n+1)),\n",
    "    \"Old Price\": old_prices,\n",
    "    \"New Price\": new_prices\n",
    "})\n",
    "summary[\"% Change\"] = ((summary[\"New Price\"] - summary[\"Old Price\"]) / summary[\"Old Price\"]) * 100\n",
    "\n",
    "summary[\"threshold (95%)\"] = summary[\"Old Price\"] * 0.95\n",
    "summary[\"Alert\"] = summary.apply(\n",
    "    lambda row: \"ALERT DROP OF 5% OR MORE\" if row[\"New Price\"] <= row[\"threshold (95%)\"] else \"NO ALERT\",\n",
    "    axis=1\n",
    ")\n",
    "\n",
    "summary.drop(columns=[\"threshold (95%)\"], inplace=True)\n",
    "\n",
    "print(\"\\n--- Trading Signal Summary ---\")\n",
    "\n",
    "print(summary.to_string(index=False))"
   ]
  },
  {
   "cell_type": "code",
   "execution_count": null,
   "id": "d34ff695",
   "metadata": {},
   "outputs": [],
   "source": []
  }
 ],
 "metadata": {
  "kernelspec": {
   "display_name": "Python 3",
   "language": "python",
   "name": "python3"
  },
  "language_info": {
   "codemirror_mode": {
    "name": "ipython",
    "version": 3
   },
   "file_extension": ".py",
   "mimetype": "text/x-python",
   "name": "python",
   "nbconvert_exporter": "python",
   "pygments_lexer": "ipython3",
   "version": "3.13.5"
  }
 },
 "nbformat": 4,
 "nbformat_minor": 5
}
