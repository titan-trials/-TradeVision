{
 "cells": [
  {
   "cell_type": "code",
   "execution_count": 2,
   "id": "28a18ade",
   "metadata": {},
   "outputs": [
    {
     "name": "stdout",
     "output_type": "stream",
     "text": [
      "\n",
      "The 3-Day Moving Averages are:\n",
      "Day 3: 11.00\n",
      "Day 4: 12.00\n",
      "Day 5: 13.00\n"
     ]
    }
   ],
   "source": [
    "import pandas as pd\n",
    "\n",
    "n = int(input(\"Enter the number of prices/numbers for your Moving Average: \"))\n",
    "\n",
    "MovingAverage = []\n",
    "for i in range(n):\n",
    "    price = float(input(\"Enter the prices/numbers: \"))\n",
    "    MovingAverage.append(price)\n",
    "\n",
    "m = int(input(\"Enter the number of days for your Moving Average: \"))\n",
    "\n",
    "AverageCalc = []\n",
    "for i in range(n - m + 1):\n",
    "    change = sum(MovingAverage[i:i+m]) / m\n",
    "    AverageCalc.append(change)\n",
    "\n",
    "print(f\"\\nThe {m}-Day Moving Averages are:\")\n",
    "for i in range(len(AverageCalc)):\n",
    "    print(f\"Day {i + m}: {AverageCalc[i]:.2f}\")\n"
   ]
  },
  {
   "cell_type": "code",
   "execution_count": null,
   "id": "1ff3fb97",
   "metadata": {},
   "outputs": [],
   "source": []
  }
 ],
 "metadata": {
  "kernelspec": {
   "display_name": "Python 3",
   "language": "python",
   "name": "python3"
  },
  "language_info": {
   "codemirror_mode": {
    "name": "ipython",
    "version": 3
   },
   "file_extension": ".py",
   "mimetype": "text/x-python",
   "name": "python",
   "nbconvert_exporter": "python",
   "pygments_lexer": "ipython3",
   "version": "3.13.5"
  }
 },
 "nbformat": 4,
 "nbformat_minor": 5
}
